{
 "cells": [
  {
   "cell_type": "markdown",
   "metadata": {
    "collapsed": true,
    "pycharm": {
     "name": "#%% md\n"
    }
   },
   "source": [
    "## Acqusition Function Plots\n",
    "\n",
    "This notebook can be used to produce plots of the posterior GP model and the\n",
    "corresponding acquisition function values, as presented in the paper.\n",
    "\n",
    "Note: This is based on an old script, and made into a notebook to make it easier to\n",
    "modify certain plot parameters. It may include bugs and may not be utilizing the\n",
    "latest modifications to BoRisk."
   ]
  },
  {
   "cell_type": "code",
   "execution_count": 7,
   "outputs": [
    {
     "name": "stdout",
     "output_type": "stream",
     "text": [
      "Using matplotlib backend: Qt5Agg\n"
     ]
    }
   ],
   "source": [
    "# imports and problem setup\n",
    "from copy import copy\n",
    "import torch\n",
    "from botorch.utils import draw_sobol_normal_samples\n",
    "from torch import Tensor\n",
    "from botorch.models import SingleTaskGP\n",
    "from botorch.fit import fit_gpytorch_model\n",
    "from gpytorch.mlls import ExactMarginalLogLikelihood\n",
    "from BoRisk.acquisition import InnerRho, rhoKG, rhoKGapx\n",
    "from BoRisk.test_functions import function_picker\n",
    "from botorch.models.transforms import Standardize\n",
    "from BoRisk.optimization.optimizer import Optimizer, InnerOptimizer\n",
    "import numpy as np\n",
    "%matplotlib\n",
    "import matplotlib.pyplot as plt\n",
    "\n",
    "SMALL_SIZE = 10\n",
    "MEDIUM_SIZE = 12\n",
    "BIGGER_SIZE = 17\n",
    "\n",
    "plt.rc('font', size=MEDIUM_SIZE)          # controls default text sizes\n",
    "plt.rc('axes', titlesize=BIGGER_SIZE)     # fontsize of the axes title\n",
    "plt.rc('axes', labelsize=MEDIUM_SIZE)    # fontsize of the x and y labels\n",
    "plt.rc('xtick', labelsize=SMALL_SIZE)    # fontsize of the tick labels\n",
    "plt.rc('ytick', labelsize=SMALL_SIZE)    # fontsize of the tick labels\n",
    "plt.rc('legend', fontsize=MEDIUM_SIZE)    # legend fontsize\n",
    "plt.rc('figure', titlesize=BIGGER_SIZE)  # fontsize of the figure title\n",
    "\n",
    "seed = 0\n",
    "torch.manual_seed(seed)\n",
    "\n",
    "function_name = \"branin\"\n",
    "dim_w = 1\n",
    "num_samples = 10\n",
    "num_restarts = 40\n",
    "raw_multiplier = 50\n",
    "maxiter = 1000\n",
    "num_fantasies = 10\n",
    "q = 1\n",
    "num_inner_restarts = 10\n",
    "inner_raw_multiplier = 5\n",
    "tts_frequency = 1  # do not change"
   ],
   "metadata": {
    "collapsed": false,
    "pycharm": {
     "name": "#%%\n"
    }
   }
  },
  {
   "cell_type": "code",
   "execution_count": 8,
   "outputs": [
    {
     "data": {
      "text/plain": "ExactMarginalLogLikelihood(\n  (likelihood): GaussianLikelihood(\n    (noise_covar): HomoskedasticNoise(\n      (noise_prior): GammaPrior()\n      (raw_noise_constraint): GreaterThan(1.000E-04)\n    )\n  )\n  (model): SingleTaskGP(\n    (likelihood): GaussianLikelihood(\n      (noise_covar): HomoskedasticNoise(\n        (noise_prior): GammaPrior()\n        (raw_noise_constraint): GreaterThan(1.000E-04)\n      )\n    )\n    (mean_module): ConstantMean()\n    (covar_module): ScaleKernel(\n      (base_kernel): MaternKernel(\n        (lengthscale_prior): GammaPrior()\n        (raw_lengthscale_constraint): Positive()\n        (distance_module): Distance()\n      )\n      (outputscale_prior): GammaPrior()\n      (raw_outputscale_constraint): Positive()\n    )\n    (outcome_transform): Standardize()\n  )\n)"
     },
     "execution_count": 8,
     "metadata": {},
     "output_type": "execute_result"
    }
   ],
   "source": [
    "# Initialize the test function and fit GP\n",
    "function = function_picker(function_name)\n",
    "d = function.dim  # dimension of train_X\n",
    "n = 2 * d + 2  # training samples\n",
    "# n = 30\n",
    "dim_x = d - dim_w  # dimension of the x component\n",
    "\n",
    "train_X = torch.rand((n, d))\n",
    "train_Y = function(train_X)\n",
    "\n",
    "w_samples = torch.linspace(0, 1, num_samples).reshape(num_samples, 1)\n",
    "\n",
    "gp = SingleTaskGP(train_X, train_Y, outcome_transform=Standardize(m=1))\n",
    "mll = ExactMarginalLogLikelihood(gp.likelihood, gp)\n",
    "fit_gpytorch_model(mll)"
   ],
   "metadata": {
    "collapsed": false,
    "pycharm": {
     "name": "#%%\n"
    }
   }
  },
  {
   "cell_type": "code",
   "execution_count": 9,
   "outputs": [],
   "source": [
    "# initialize the optimizers\n",
    "inner_optimizer = InnerOptimizer(\n",
    "    num_restarts=num_inner_restarts,\n",
    "    raw_multiplier=inner_raw_multiplier,\n",
    "    dim_x=dim_x,\n",
    "    maxiter=maxiter,\n",
    ")\n",
    "\n",
    "optimizer = Optimizer(\n",
    "    num_restarts=num_restarts,\n",
    "    raw_multiplier=raw_multiplier,\n",
    "    num_fantasies=num_fantasies,\n",
    "    dim=d,\n",
    "    dim_x=dim_x,\n",
    "    q=q,\n",
    "    maxiter=maxiter,\n",
    ")"
   ],
   "metadata": {
    "collapsed": false,
    "pycharm": {
     "name": "#%%\n"
    }
   }
  },
  {
   "cell_type": "code",
   "execution_count": 10,
   "outputs": [],
   "source": [
    "fix_samples = True\n",
    "fixed_samples = w_samples\n",
    "alpha = 0.7\n",
    "CVaR = True\n",
    "num_repetitions = 40\n",
    "fantasy_seed = int(torch.randint(10000, (1,)))\n",
    "inner_seed = int(torch.randint(10000, (1,)))\n",
    "\n",
    "inner_rho = InnerRho(\n",
    "    model=gp,\n",
    "    w_samples=w_samples,\n",
    "    alpha=alpha,\n",
    "    dim_x=dim_x,\n",
    "    num_repetitions=num_repetitions,\n",
    "    inner_seed=inner_seed,\n",
    "    CVaR=CVaR,\n",
    ")\n",
    "\n",
    "past_x = train_X[:, :dim_x]\n",
    "\n",
    "current_best_sol, current_best_value = optimizer.optimize_inner(inner_rho)\n",
    "\n",
    "rhokgapx = rhoKGapx(\n",
    "    model=gp,\n",
    "    num_samples=num_samples,\n",
    "    alpha=alpha,\n",
    "    current_best_rho=current_best_value,\n",
    "    num_fantasies=num_fantasies,\n",
    "    fantasy_seed=fantasy_seed,\n",
    "    dim=d,\n",
    "    dim_x=dim_x,\n",
    "    past_x=past_x,\n",
    "    q=q,\n",
    "    fix_samples=fix_samples,\n",
    "    fixed_samples=fixed_samples,\n",
    "    num_repetitions=num_repetitions,\n",
    "    inner_seed=inner_seed,\n",
    "    CVaR=CVaR,\n",
    "    tts_frequency=tts_frequency\n",
    ")\n",
    "\n",
    "rhokg = rhoKG(\n",
    "    model=gp,\n",
    "    num_samples=num_samples,\n",
    "    alpha=alpha,\n",
    "    current_best_rho=current_best_value,\n",
    "    num_fantasies=num_fantasies,\n",
    "    fantasy_seed=fantasy_seed,\n",
    "    dim=d,\n",
    "    dim_x=dim_x,\n",
    "    inner_optimizer=inner_optimizer.optimize,\n",
    "    q=q,\n",
    "    fix_samples=fix_samples,\n",
    "    fixed_samples=fixed_samples,\n",
    "    num_repetitions=num_repetitions,\n",
    "    inner_seed=inner_seed,\n",
    "    CVaR=CVaR,\n",
    "    tts_frequency=tts_frequency\n",
    ")"
   ],
   "metadata": {
    "collapsed": false,
    "pycharm": {
     "name": "#%% setup the acquisition functions and the posterior objective\n"
    }
   }
  },
  {
   "cell_type": "code",
   "execution_count": 16,
   "outputs": [],
   "source": [
    "# Plot the statistical model\n",
    "levels = 25\n",
    "alp = 0.9\n",
    "save_extension = \"png\"\n",
    "\n",
    "# start with GP posterior mean\n",
    "fig, ax = plt.subplots()  # consider setting figsize\n",
    "# plot the training data\n",
    "ax.scatter(\n",
    "    gp.train_inputs[0].numpy()[:, 0],\n",
    "    gp.train_inputs[0].numpy()[:, 1],\n",
    "    marker=\"x\",\n",
    "    color=\"black\",\n",
    ")\n",
    "ax.set_ylabel(\"w\")\n",
    "ax.set_title(\"$\\\\mu_n$\")\n",
    "ax.set_ylim(0, 1)\n",
    "ax.set_xlabel(\"x\")\n",
    "ax.set_xlim(0, 1)\n",
    "# plot mu\n",
    "k = 100  # number of points in x and w\n",
    "x = torch.linspace(0, 1, k)\n",
    "xx, yy = np.meshgrid(x, x)\n",
    "xy = torch.cat([Tensor(xx).unsqueeze(-1), Tensor(yy).unsqueeze(-1)], -1)\n",
    "means = gp.posterior(xy).mean.squeeze().detach().numpy()\n",
    "c = ax.contourf(xx, yy, means, alpha=alp, levels=levels)\n",
    "plt.colorbar(c, ax=ax)\n",
    "plt.savefig(\"mu_n.\" + save_extension, dpi=300)\n",
    "plt.show()\n",
    "\n",
    "# GP posterior variance\n",
    "fig, ax = plt.subplots()  # consider setting figsize\n",
    "# plot the training data\n",
    "ax.scatter(\n",
    "    gp.train_inputs[0].numpy()[:, 0],\n",
    "    gp.train_inputs[0].numpy()[:, 1],\n",
    "    marker=\"x\",\n",
    "    color=\"black\",\n",
    ")\n",
    "ax.set_ylabel(\"w\")\n",
    "ax.set_title(\"$\\\\Sigma_n$\")\n",
    "ax.set_ylim(0, 1)\n",
    "ax.set_xlabel(\"x\")\n",
    "ax.set_xlim(0, 1)\n",
    "# plot Sigma\n",
    "x = torch.linspace(0, 1, k)\n",
    "xx, yy = np.meshgrid(x, x)\n",
    "xy = torch.cat([Tensor(xx).unsqueeze(-1), Tensor(yy).unsqueeze(-1)], -1)\n",
    "stdevs = gp.posterior(xy).variance.pow(1 / 2).squeeze().detach().numpy()\n",
    "c = ax.contourf(xx, yy, stdevs, alpha=alp, levels=levels)\n",
    "plt.colorbar(c, ax=ax)\n",
    "plt.savefig(\"Sigma_n.\" + save_extension, dpi=300)\n",
    "plt.show()\n",
    "\n",
    "# Implied posterior objective\n",
    "fig, ax = plt.subplots()  # consider setting figsize\n",
    "ax.set_ylabel(\"CVaR\")\n",
    "ax.set_title(\"CVaR$_{0.7}$[$F(x, W)$]\")\n",
    "ax.set_xlabel(\"x\")\n",
    "ax.set_xlim(0, 1)\n",
    "\n",
    "sols = torch.linspace(0, 1, k).view(-1, 1)\n",
    "vals = -inner_rho(sols)\n",
    "# confidence intervals\n",
    "alternate_inner = copy(inner_rho)\n",
    "alternate_inner.num_repetitions = 1\n",
    "alternate_inner.inner_seed = None\n",
    "results = torch.empty((100, *vals.size()))\n",
    "with torch.no_grad():\n",
    "    for i in range(100):\n",
    "        raw_sobol = draw_sobol_normal_samples(\n",
    "            d=alternate_inner.num_samples,\n",
    "            n=alternate_inner.num_fantasies,\n",
    "            seed=alternate_inner.inner_seed,\n",
    "        )\n",
    "        alternate_inner.sobol_samples = raw_sobol.reshape(\n",
    "            alternate_inner.num_repetitions,\n",
    "            alternate_inner.num_fantasies,\n",
    "            1,\n",
    "            alternate_inner.num_samples,\n",
    "            1,\n",
    "        )\n",
    "        results[i] = -alternate_inner(sols)\n",
    "mean = torch.mean(results, dim=0).detach().reshape(-1)\n",
    "std = torch.std(results, dim=0).detach().reshape(-1)\n",
    "ax.plot(sols.reshape(-1).numpy(), mean.numpy(), label=\"posterior mean\")\n",
    "ax.fill_between(\n",
    "    sols.reshape(-1), mean - 1.96 * std, mean + 1.96 * std,\n",
    "    alpha=0.3, label=\"95% confidence interval\"\n",
    ")\n",
    "plt.colorbar(c, ax=ax)\n",
    "plt.legend()\n",
    "plt.savefig(\"cvar.\" + save_extension, dpi=300)\n",
    "plt.show()"
   ],
   "metadata": {
    "collapsed": false,
    "pycharm": {
     "name": "#%%\n"
    }
   }
  },
  {
   "cell_type": "code",
   "execution_count": 12,
   "outputs": [
    {
     "name": "stdout",
     "output_type": "stream",
     "text": [
      "Successfully evaluated!\n"
     ]
    }
   ],
   "source": [
    "# generate the data for acqf plots\n",
    "def evaluate_and_plot_on_grid(apx: bool, k: int = 40):\n",
    "    r\"\"\"\n",
    "    Evaluates the acquisition function value on a grid\n",
    "    Args:\n",
    "        apx: If True, plots rhoKGapx, else plots rhoKG\n",
    "        k: number of points in x axis\n",
    "\n",
    "    Returns:\n",
    "        A three-tuple of contour plot args\n",
    "    \"\"\"\n",
    "    x = torch.linspace(0, 1, k)\n",
    "    y = w_samples.numpy()\n",
    "    xx, yy = np.meshgrid(x, y)\n",
    "    xy = torch.cat([torch.tensor(xx).unsqueeze(-1), torch.tensor(yy).unsqueeze(-1)], -1)\n",
    "    res = torch.zeros((num_samples, k, 1))\n",
    "    for i in range(num_samples):\n",
    "        for j in range(k):\n",
    "            X_outer = xy[i, j]\n",
    "            if apx:\n",
    "                res[i, j] = rhokgapx(X_outer)\n",
    "            else:\n",
    "                res[i, j] = rhokg(X_outer)\n",
    "            # print(\"sol %d, %d complete, time: %s \" % (i, j, time() - start))\n",
    "    return xx, yy, res.detach().squeeze()\n",
    "\n",
    "apx_evals = evaluate_and_plot_on_grid(True)\n",
    "rhokg_evals = evaluate_and_plot_on_grid(False)\n",
    "\n",
    "print(\"Successfully evaluated!\")"
   ],
   "metadata": {
    "collapsed": false,
    "pycharm": {
     "name": "#%%\n"
    }
   }
  },
  {
   "cell_type": "code",
   "execution_count": 17,
   "outputs": [],
   "source": [
    "# produce the plots\n",
    "for apx in [True, False]:\n",
    "    plt.figure()\n",
    "    plt.xlabel(\"x\")\n",
    "    plt.ylabel(\"w\")\n",
    "    if apx:\n",
    "        plot_name = \"$\\\\rho$KG$^{apx}$\"\n",
    "        data = apx_evals\n",
    "        save_name = \"rhoKGapx.\" + save_extension\n",
    "    else:\n",
    "        plot_name = \"$\\\\rho$KG\"\n",
    "        data = rhokg_evals\n",
    "        save_name = \"rhoKG.\" + save_extension\n",
    "    plt.title(\"%s Acquisition Function Value\" % plot_name)\n",
    "    c = plt.contourf(*data, levels=25)\n",
    "    plt.colorbar(c)\n",
    "    plt.savefig(save_name, dpi=300)\n",
    "    plt.show()\n"
   ],
   "metadata": {
    "collapsed": false,
    "pycharm": {
     "name": "#%%\n"
    }
   }
  }
 ],
 "metadata": {
  "kernelspec": {
   "display_name": "Python 3",
   "language": "python",
   "name": "python3"
  },
  "language_info": {
   "codemirror_mode": {
    "name": "ipython",
    "version": 2
   },
   "file_extension": ".py",
   "mimetype": "text/x-python",
   "name": "python",
   "nbconvert_exporter": "python",
   "pygments_lexer": "ipython2",
   "version": "2.7.6"
  }
 },
 "nbformat": 4,
 "nbformat_minor": 0
}